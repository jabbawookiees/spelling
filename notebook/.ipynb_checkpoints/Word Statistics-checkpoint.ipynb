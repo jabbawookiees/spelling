{
 "cells": [
  {
   "cell_type": "markdown",
   "metadata": {},
   "source": [
    "## Read Raw Data"
   ]
  },
  {
   "cell_type": "code",
   "execution_count": 1,
   "metadata": {
    "collapsed": false
   },
   "outputs": [],
   "source": [
    "import re\n",
    "\n",
    "with open(\"../data/raw-data.txt\") as raw:\n",
    "    words = {}\n",
    "    for line in raw:\n",
    "        word, count = re.split(\"\\\\s+\", line.strip())\n",
    "        words[word] = count\n"
   ]
  },
  {
   "cell_type": "markdown",
   "metadata": {},
   "source": [
    "## Frequency Chart"
   ]
  },
  {
   "cell_type": "code",
   "execution_count": 2,
   "metadata": {
    "collapsed": false,
    "scrolled": false
   },
   "outputs": [
    {
     "data": {
      "image/png": "[encoded data removed]",
      "text/plain": [
       "<matplotlib.figure.Figure at 0x7fc075fbb150>"
      ]
     },
     "metadata": {},
     "output_type": "display_data"
    }
   ],
   "source": [
    "from matplotlib import pyplot as plt\n",
    "\n",
    "word_lengths = map(len, words.keys())\n",
    "\n",
    "n, bins, patches = plt.hist(word_lengths, facecolor='green')\n",
    "\n",
    "plt.xlabel('Word Length')\n",
    "plt.ylabel('Frequency')\n",
    "plt.title('Frequency of Word Lengths')\n",
    "plt.grid(True)\n",
    "plt.axis([1, 20, 0, 20000])\n",
    "\n",
    "plt.show()"
   ]
  },
  {
   "cell_type": "markdown",
   "metadata": {},
   "source": [
    "## Percentage of Each Length"
   ]
  },
  {
   "cell_type": "code",
   "execution_count": 3,
   "metadata": {
    "collapsed": false
   },
   "outputs": [
    {
     "name": "stdout",
     "output_type": "stream",
     "text": [
      "Length:\tPercentage\tCumulative\n",
      "1:\t0.052%\t\t0.052%\n",
      "2:\t0.962%\t\t1.014%\n",
      "3:\t4.022%\t\t5.036%\n",
      "4:\t9.156%\t\t14.192%\n",
      "5:\t14.008%\t\t28.2%\n",
      "6:\t17.236%\t\t45.436%\n",
      "7:\t16.394%\t\t61.83%\n",
      "8:\t13.58%\t\t75.41%\n",
      "9:\t10.202%\t\t85.612%\n",
      "10:\t6.692%\t\t92.304%\n",
      "11:\t3.898%\t\t96.202%\n",
      "12:\t2.162%\t\t98.364%\n",
      "13:\t1.022%\t\t99.386%\n",
      "14:\t0.408%\t\t99.794%\n",
      "15:\t0.134%\t\t99.928%\n",
      "16:\t0.048%\t\t99.976%\n",
      "17:\t0.016%\t\t99.992%\n",
      "18:\t0.004%\t\t99.996%\n",
      "19:\t0.002%\t\t99.998%\n",
      "24:\t0.002%\t\t100.0%\n"
     ]
    }
   ],
   "source": [
    "from collections import Counter\n",
    "counts = Counter(word_lengths)\n",
    "cumulative = 0.0\n",
    "print \"{}:\\t{}\\t{}\".format(\"Length\", \"Percentage\", \"Cumulative\")\n",
    "for length, count in counts.iteritems():\n",
    "    percentage = 100 * float(count) / len(words)\n",
    "    cumulative += percentage\n",
    "    print \"{}:\\t{}%\\t\\t{}%\".format(length, percentage, cumulative)\n"
   ]
  },
  {
   "cell_type": "code",
   "execution_count": 19,
   "metadata": {
    "collapsed": false
   },
   "outputs": [
    {
     "name": "stdout",
     "output_type": "stream",
     "text": [
      "/home/payton/nus/spelling\n"
     ]
    }
   ],
   "source": [
    "# Hack to cd to ../spelling\n",
    "import os\n",
    "\n",
    "try:\n",
    "    original_path\n",
    "except NameError:\n",
    "    original_path = os.getcwd()\n",
    "    os.chdir(os.path.dirname(original_path))\n",
    "print os.getcwd()"
   ]
  },
  {
   "cell_type": "markdown",
   "metadata": {},
   "source": [
    "## Given length L, how many words of edit distance 1 and 2?"
   ]
  },
  {
   "cell_type": "code",
   "execution_count": 28,
   "metadata": {
    "collapsed": false,
    "scrolled": true
   },
   "outputs": [
    {
     "name": "stdout",
     "output_type": "stream",
     "text": [
      "1 29\n",
      "2 140\n",
      "3 323\n",
      "4 701\n",
      "5 1064\n",
      "6 1712\n",
      "7 2522\n",
      "8 3492\n",
      "9 4243\n",
      "10 5344\n",
      "11 6415\n",
      "12 7246\n",
      "13 8136\n",
      "14 9265\n",
      "15 10256\n",
      "16 10878\n",
      "17 11739\n",
      "18 13086\n",
      "19 15203\n",
      "20 16730\n",
      "21 18326\n",
      "22 19997\n",
      "23 21735\n",
      "24 23545\n",
      "25 25431\n"
     ]
    }
   ],
   "source": [
    "from tools import edits\n",
    "full = \"abcdefghijklmnopqrstuvwxyz\"\n",
    "for i in xrange(1, 26):\n",
    "    print i, len(list(edits.edits1(full[:i]))) + len(list(edits.edits2(full[:i])))\n"
   ]
  }
 ],
 "metadata": {
  "anaconda-cloud": {},
  "kernelspec": {
   "display_name": "Python [default]",
   "language": "python",
   "name": "python2"
  },
  "language_info": {
   "codemirror_mode": {
    "name": "ipython",
    "version": 2
   },
   "file_extension": ".py",
   "mimetype": "text/x-python",
   "name": "python",
   "nbconvert_exporter": "python",
   "pygments_lexer": "ipython2",
   "version": "2.7.12"
  }
 },
 "nbformat": 4,
 "nbformat_minor": 1
}
